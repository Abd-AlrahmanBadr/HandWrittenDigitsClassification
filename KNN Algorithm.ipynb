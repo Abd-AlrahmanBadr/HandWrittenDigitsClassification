{
 "cells": [
  {
   "cell_type": "markdown",
   "metadata": {},
   "source": [
    "# How KNN Works"
   ]
  },
  {
   "cell_type": "code",
   "execution_count": 1,
   "metadata": {
    "scrolled": true
   },
   "outputs": [
    {
     "name": "stderr",
     "output_type": "stream",
     "text": [
      "/home/yousry/DSS_Env/lib/python3.6/site-packages/sklearn/utils/deprecation.py:77: DeprecationWarning: Function make_blobs is deprecated; Please import make_blobs directly from scikit-learn\n",
      "  warnings.warn(msg, category=DeprecationWarning)\n"
     ]
    }
   ],
   "source": [
    "import mglearn\n",
    "from sklearn.datasets import make_blobs\n",
    "mglearn.plots.plot_knn_classification(n_neighbors = 5)"
   ]
  },
  {
   "cell_type": "markdown",
   "metadata": {},
   "source": [
    "# Importing Packages"
   ]
  },
  {
   "cell_type": "code",
   "execution_count": 2,
   "metadata": {},
   "outputs": [],
   "source": [
    "import numpy as np\n",
    "from sklearn.model_selection import train_test_split\n",
    "from sklearn.neighbors import KNeighborsClassifier\n",
    "import matplotlib.pyplot as plt"
   ]
  },
  {
   "cell_type": "markdown",
   "metadata": {},
   "source": [
    "# Loading Digits Dataset"
   ]
  },
  {
   "cell_type": "code",
   "execution_count": 3,
   "metadata": {},
   "outputs": [
    {
     "name": "stdout",
     "output_type": "stream",
     "text": [
      "Image data shape:  (1797, 64)\n",
      "Lable data shape:  (1797,)\n"
     ]
    }
   ],
   "source": [
    "from sklearn.datasets import load_digits\n",
    "digits = load_digits()\n",
    "\n",
    "print(\"Image data shape: \", digits.data.shape)\n",
    "print(\"Lable data shape: \", digits.target.shape)"
   ]
  },
  {
   "cell_type": "markdown",
   "metadata": {},
   "source": [
    "# Parameter Tuning"
   ]
  },
  {
   "cell_type": "raw",
   "metadata": {},
   "source": [
    "def TestParams(RS, A, P):\n",
    "    (trainData, testData, trainLabels, testLabels) = train_test_split(np.array(digits.data), digits.target, test_size = 0.2, random_state = RS)\n",
    "    KValues = []\n",
    "    Accuracies = []\n",
    "    \n",
    "    \n",
    "    for K in range(1, 100, 2):\n",
    "        Model = KNeighborsClassifier(n_neighbors = K, algorithm = A, p = P)\n",
    "        Model.fit(trainData, trainLabels)\n",
    "        score = Model.score(testData, testLabels)\n",
    "        KValues.append(K)\n",
    "        Accuracies.append(score)\n",
    "\n",
    "    i = np.argmax(Accuracies)\n",
    "    return (KValues[i], RS, A, P, Accuracies[i] * 100)\n",
    "\n",
    "A = [\"ball_tree\", \"kd_tree\", \"brute\", \"auto\"]\n",
    "P = [1, 2]\n",
    "RS = list(range(100))\n",
    "\n",
    "kValues = []\n",
    "randomState = []\n",
    "algorithm = []\n",
    "power = []\n",
    "accuracy = []\n",
    "\n",
    "i = 0\n",
    "for rs in RS:\n",
    "    for a in A:\n",
    "        for p in P:\n",
    "            K, rState, algo, po, acc = TestParams(rs, a, p)\n",
    "            kValues.append(K)\n",
    "            randomState.append(rState)\n",
    "            algorithm.append(algo)\n",
    "            power.append(po)\n",
    "            accuracy.append(acc)\n",
    "            i = i + 1\n",
    "            print(i)\n",
    "\n",
    "i = np.argmax(accuracy)\n",
    "print(\"Accuracy = %.2f%%, randomState = %d, algorithm = %s, power = %d, K = %d\" % (accuracy[i], randomState[i], algorithm[i], power[i], kValues[i]))"
   ]
  },
  {
   "cell_type": "markdown",
   "metadata": {},
   "source": [
    "# Train & Testing"
   ]
  },
  {
   "cell_type": "code",
   "execution_count": 4,
   "metadata": {},
   "outputs": [
    {
     "data": {
      "text/plain": [
       "<matplotlib.legend.Legend at 0x7f3b574dda20>"
      ]
     },
     "execution_count": 4,
     "metadata": {},
     "output_type": "execute_result"
    },
    {
     "data": {
      "image/png": "[encoded data removed]",
      "text/plain": [
       "<Figure size 432x288 with 1 Axes>"
      ]
     },
     "metadata": {
      "needs_background": "light"
     },
     "output_type": "display_data"
    }
   ],
   "source": [
    "(trainData, testData, trainLabels, testLabels) = train_test_split(np.array(digits.data), digits.target, test_size = 0.2, random_state = 44)\n",
    "\n",
    "train_accuracy = []\n",
    "test_accuracy = []\n",
    "\n",
    "for k in range(1, 11, 2):\n",
    "    Model = KNeighborsClassifier(n_neighbors = k, algorithm = \"ball_tree\", p = 1)\n",
    "    Model.fit(trainData, trainLabels)\n",
    "    \n",
    "    train_accuracy.append(Model.score(trainData, trainLabels) * 100)\n",
    "    test_accuracy.append(Model.score(testData, testLabels) * 100)\n",
    "\n",
    "plt.plot(range(1, 11, 2), train_accuracy, label = 'Accuracy of the training set')\n",
    "plt.plot(range(1, 11, 2), test_accuracy, label = 'Accuracy of the test set')\n",
    "plt.ylabel('Accuracy')\n",
    "plt.xlabel('Number of Neighbors')\n",
    "plt.legend()"
   ]
  }
 ],
 "metadata": {
  "kernelspec": {
   "display_name": "Python 3",
   "language": "python",
   "name": "python3"
  },
  "language_info": {
   "codemirror_mode": {
    "name": "ipython",
    "version": 3
   },
   "file_extension": ".py",
   "mimetype": "text/x-python",
   "name": "python",
   "nbconvert_exporter": "python",
   "pygments_lexer": "ipython3",
   "version": "3.6.7"
  }
 },
 "nbformat": 4,
 "nbformat_minor": 2
}
